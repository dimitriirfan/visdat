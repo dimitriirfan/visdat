{
 "cells": [
  {
   "cell_type": "code",
   "execution_count": 49,
   "metadata": {},
   "outputs": [],
   "source": [
    "import pandas as pd\n",
    "\n",
    "import bokeh\n",
    "from bokeh.plotting import figure\n",
    "from bokeh.models import ColumnDataSource, DataRange1d, Select, Slider,HoverTool, LabelSet, Panel\n",
    "from bokeh.models import ColumnDataSource, Grid, LinearAxis, Plot, VBar\n",
    "import numpy as np\n"
   ]
  },
  {
   "cell_type": "code",
   "execution_count": 18,
   "metadata": {},
   "outputs": [
    {
     "data": {
      "text/html": [
       "<div>\n",
       "<style scoped>\n",
       "    .dataframe tbody tr th:only-of-type {\n",
       "        vertical-align: middle;\n",
       "    }\n",
       "\n",
       "    .dataframe tbody tr th {\n",
       "        vertical-align: top;\n",
       "    }\n",
       "\n",
       "    .dataframe thead th {\n",
       "        text-align: right;\n",
       "    }\n",
       "</style>\n",
       "<table border=\"1\" class=\"dataframe\">\n",
       "  <thead>\n",
       "    <tr style=\"text-align: right;\">\n",
       "      <th></th>\n",
       "      <th>Date</th>\n",
       "      <th>Country</th>\n",
       "      <th>Confirmed</th>\n",
       "      <th>Recovered</th>\n",
       "      <th>Deaths</th>\n",
       "    </tr>\n",
       "  </thead>\n",
       "  <tbody>\n",
       "    <tr>\n",
       "      <th>0</th>\n",
       "      <td>2020-01-22</td>\n",
       "      <td>Afghanistan</td>\n",
       "      <td>0</td>\n",
       "      <td>0</td>\n",
       "      <td>0</td>\n",
       "    </tr>\n",
       "    <tr>\n",
       "      <th>1</th>\n",
       "      <td>2020-01-23</td>\n",
       "      <td>Afghanistan</td>\n",
       "      <td>0</td>\n",
       "      <td>0</td>\n",
       "      <td>0</td>\n",
       "    </tr>\n",
       "    <tr>\n",
       "      <th>2</th>\n",
       "      <td>2020-01-24</td>\n",
       "      <td>Afghanistan</td>\n",
       "      <td>0</td>\n",
       "      <td>0</td>\n",
       "      <td>0</td>\n",
       "    </tr>\n",
       "    <tr>\n",
       "      <th>3</th>\n",
       "      <td>2020-01-25</td>\n",
       "      <td>Afghanistan</td>\n",
       "      <td>0</td>\n",
       "      <td>0</td>\n",
       "      <td>0</td>\n",
       "    </tr>\n",
       "    <tr>\n",
       "      <th>4</th>\n",
       "      <td>2020-01-26</td>\n",
       "      <td>Afghanistan</td>\n",
       "      <td>0</td>\n",
       "      <td>0</td>\n",
       "      <td>0</td>\n",
       "    </tr>\n",
       "    <tr>\n",
       "      <th>...</th>\n",
       "      <td>...</td>\n",
       "      <td>...</td>\n",
       "      <td>...</td>\n",
       "      <td>...</td>\n",
       "      <td>...</td>\n",
       "    </tr>\n",
       "    <tr>\n",
       "      <th>88123</th>\n",
       "      <td>2021-04-20</td>\n",
       "      <td>Zimbabwe</td>\n",
       "      <td>37875</td>\n",
       "      <td>35058</td>\n",
       "      <td>1554</td>\n",
       "    </tr>\n",
       "    <tr>\n",
       "      <th>88124</th>\n",
       "      <td>2021-04-21</td>\n",
       "      <td>Zimbabwe</td>\n",
       "      <td>37980</td>\n",
       "      <td>35065</td>\n",
       "      <td>1555</td>\n",
       "    </tr>\n",
       "    <tr>\n",
       "      <th>88125</th>\n",
       "      <td>2021-04-22</td>\n",
       "      <td>Zimbabwe</td>\n",
       "      <td>38018</td>\n",
       "      <td>35073</td>\n",
       "      <td>1555</td>\n",
       "    </tr>\n",
       "    <tr>\n",
       "      <th>88126</th>\n",
       "      <td>2021-04-23</td>\n",
       "      <td>Zimbabwe</td>\n",
       "      <td>38045</td>\n",
       "      <td>35094</td>\n",
       "      <td>1556</td>\n",
       "    </tr>\n",
       "    <tr>\n",
       "      <th>88127</th>\n",
       "      <td>2021-04-24</td>\n",
       "      <td>Zimbabwe</td>\n",
       "      <td>38064</td>\n",
       "      <td>35101</td>\n",
       "      <td>1556</td>\n",
       "    </tr>\n",
       "  </tbody>\n",
       "</table>\n",
       "<p>88128 rows × 5 columns</p>\n",
       "</div>"
      ],
      "text/plain": [
       "            Date      Country  Confirmed  Recovered  Deaths\n",
       "0     2020-01-22  Afghanistan          0          0       0\n",
       "1     2020-01-23  Afghanistan          0          0       0\n",
       "2     2020-01-24  Afghanistan          0          0       0\n",
       "3     2020-01-25  Afghanistan          0          0       0\n",
       "4     2020-01-26  Afghanistan          0          0       0\n",
       "...          ...          ...        ...        ...     ...\n",
       "88123 2021-04-20     Zimbabwe      37875      35058    1554\n",
       "88124 2021-04-21     Zimbabwe      37980      35065    1555\n",
       "88125 2021-04-22     Zimbabwe      38018      35073    1555\n",
       "88126 2021-04-23     Zimbabwe      38045      35094    1556\n",
       "88127 2021-04-24     Zimbabwe      38064      35101    1556\n",
       "\n",
       "[88128 rows x 5 columns]"
      ]
     },
     "execution_count": 18,
     "metadata": {},
     "output_type": "execute_result"
    }
   ],
   "source": [
    "data = pd.read_csv('data/countries-aggregated.csv')\n",
    "data['Date'] = pd.to_datetime(data['Date'])\n",
    "data"
   ]
  },
  {
   "cell_type": "code",
   "execution_count": 89,
   "metadata": {},
   "outputs": [],
   "source": [
    "df = data\n",
    "option = 'Afghanistan'\n",
    "df = df[df['Country'] == option].max()\n",
    "\n",
    "# source = ColumnDataSource(data=dict(name=df.Country, confirmed=df.Confirmed, recovered=df.Recovered, deaths=df.Deaths))\n",
    "yo = {\n",
    "    'country' : [df.Country],\n",
    "    'confirmed' : [df.Confirmed],\n",
    "    'recovered' : [df.Recovered],\n",
    "    'deaths' : [df.Deaths]\n",
    "}\n",
    "source = ColumnDataSource(data=yo)"
   ]
  },
  {
   "cell_type": "code",
   "execution_count": 92,
   "metadata": {},
   "outputs": [],
   "source": [
    "s = source.data\n"
   ]
  },
  {
   "cell_type": "code",
   "execution_count": 82,
   "metadata": {},
   "outputs": [
    {
     "data": {
      "text/html": [
       "\n",
       "    <div class=\"bk-root\">\n",
       "        <a href=\"https://bokeh.org\" target=\"_blank\" class=\"bk-logo bk-logo-small bk-logo-notebook\"></a>\n",
       "        <span id=\"5216\">Loading BokehJS ...</span>\n",
       "    </div>"
      ]
     },
     "metadata": {},
     "output_type": "display_data"
    },
    {
     "data": {
      "application/javascript": "\n(function(root) {\n  function now() {\n    return new Date();\n  }\n\n  const force = true;\n\n  if (typeof root._bokeh_onload_callbacks === \"undefined\" || force === true) {\n    root._bokeh_onload_callbacks = [];\n    root._bokeh_is_loading = undefined;\n  }\n\n  const JS_MIME_TYPE = 'application/javascript';\n  const HTML_MIME_TYPE = 'text/html';\n  const EXEC_MIME_TYPE = 'application/vnd.bokehjs_exec.v0+json';\n  const CLASS_NAME = 'output_bokeh rendered_html';\n\n  /**\n   * Render data to the DOM node\n   */\n  function render(props, node) {\n    const script = document.createElement(\"script\");\n    node.appendChild(script);\n  }\n\n  /**\n   * Handle when an output is cleared or removed\n   */\n  function handleClearOutput(event, handle) {\n    const cell = handle.cell;\n\n    const id = cell.output_area._bokeh_element_id;\n    const server_id = cell.output_area._bokeh_server_id;\n    // Clean up Bokeh references\n    if (id != null && id in Bokeh.index) {\n      Bokeh.index[id].model.document.clear();\n      delete Bokeh.index[id];\n    }\n\n    if (server_id !== undefined) {\n      // Clean up Bokeh references\n      const cmd_clean = \"from bokeh.io.state import curstate; print(curstate().uuid_to_server['\" + server_id + \"'].get_sessions()[0].document.roots[0]._id)\";\n      cell.notebook.kernel.execute(cmd_clean, {\n        iopub: {\n          output: function(msg) {\n            const id = msg.content.text.trim();\n            if (id in Bokeh.index) {\n              Bokeh.index[id].model.document.clear();\n              delete Bokeh.index[id];\n            }\n          }\n        }\n      });\n      // Destroy server and session\n      const cmd_destroy = \"import bokeh.io.notebook as ion; ion.destroy_server('\" + server_id + \"')\";\n      cell.notebook.kernel.execute(cmd_destroy);\n    }\n  }\n\n  /**\n   * Handle when a new output is added\n   */\n  function handleAddOutput(event, handle) {\n    const output_area = handle.output_area;\n    const output = handle.output;\n\n    // limit handleAddOutput to display_data with EXEC_MIME_TYPE content only\n    if ((output.output_type != \"display_data\") || (!Object.prototype.hasOwnProperty.call(output.data, EXEC_MIME_TYPE))) {\n      return\n    }\n\n    const toinsert = output_area.element.find(\".\" + CLASS_NAME.split(' ')[0]);\n\n    if (output.metadata[EXEC_MIME_TYPE][\"id\"] !== undefined) {\n      toinsert[toinsert.length - 1].firstChild.textContent = output.data[JS_MIME_TYPE];\n      // store reference to embed id on output_area\n      output_area._bokeh_element_id = output.metadata[EXEC_MIME_TYPE][\"id\"];\n    }\n    if (output.metadata[EXEC_MIME_TYPE][\"server_id\"] !== undefined) {\n      const bk_div = document.createElement(\"div\");\n      bk_div.innerHTML = output.data[HTML_MIME_TYPE];\n      const script_attrs = bk_div.children[0].attributes;\n      for (let i = 0; i < script_attrs.length; i++) {\n        toinsert[toinsert.length - 1].firstChild.setAttribute(script_attrs[i].name, script_attrs[i].value);\n        toinsert[toinsert.length - 1].firstChild.textContent = bk_div.children[0].textContent\n      }\n      // store reference to server id on output_area\n      output_area._bokeh_server_id = output.metadata[EXEC_MIME_TYPE][\"server_id\"];\n    }\n  }\n\n  function register_renderer(events, OutputArea) {\n\n    function append_mime(data, metadata, element) {\n      // create a DOM node to render to\n      const toinsert = this.create_output_subarea(\n        metadata,\n        CLASS_NAME,\n        EXEC_MIME_TYPE\n      );\n      this.keyboard_manager.register_events(toinsert);\n      // Render to node\n      const props = {data: data, metadata: metadata[EXEC_MIME_TYPE]};\n      render(props, toinsert[toinsert.length - 1]);\n      element.append(toinsert);\n      return toinsert\n    }\n\n    /* Handle when an output is cleared or removed */\n    events.on('clear_output.CodeCell', handleClearOutput);\n    events.on('delete.Cell', handleClearOutput);\n\n    /* Handle when a new output is added */\n    events.on('output_added.OutputArea', handleAddOutput);\n\n    /**\n     * Register the mime type and append_mime function with output_area\n     */\n    OutputArea.prototype.register_mime_type(EXEC_MIME_TYPE, append_mime, {\n      /* Is output safe? */\n      safe: true,\n      /* Index of renderer in `output_area.display_order` */\n      index: 0\n    });\n  }\n\n  // register the mime type if in Jupyter Notebook environment and previously unregistered\n  if (root.Jupyter !== undefined) {\n    const events = require('base/js/events');\n    const OutputArea = require('notebook/js/outputarea').OutputArea;\n\n    if (OutputArea.prototype.mime_types().indexOf(EXEC_MIME_TYPE) == -1) {\n      register_renderer(events, OutputArea);\n    }\n  }\n\n  \n  if (typeof (root._bokeh_timeout) === \"undefined\" || force === true) {\n    root._bokeh_timeout = Date.now() + 5000;\n    root._bokeh_failed_load = false;\n  }\n\n  const NB_LOAD_WARNING = {'data': {'text/html':\n     \"<div style='background-color: #fdd'>\\n\"+\n     \"<p>\\n\"+\n     \"BokehJS does not appear to have successfully loaded. If loading BokehJS from CDN, this \\n\"+\n     \"may be due to a slow or bad network connection. Possible fixes:\\n\"+\n     \"</p>\\n\"+\n     \"<ul>\\n\"+\n     \"<li>re-rerun `output_notebook()` to attempt to load from CDN again, or</li>\\n\"+\n     \"<li>use INLINE resources instead, as so:</li>\\n\"+\n     \"</ul>\\n\"+\n     \"<code>\\n\"+\n     \"from bokeh.resources import INLINE\\n\"+\n     \"output_notebook(resources=INLINE)\\n\"+\n     \"</code>\\n\"+\n     \"</div>\"}};\n\n  function display_loaded() {\n    const el = document.getElementById(\"5216\");\n    if (el != null) {\n      el.textContent = \"BokehJS is loading...\";\n    }\n    if (root.Bokeh !== undefined) {\n      if (el != null) {\n        el.textContent = \"BokehJS \" + root.Bokeh.version + \" successfully loaded.\";\n      }\n    } else if (Date.now() < root._bokeh_timeout) {\n      setTimeout(display_loaded, 100)\n    }\n  }\n\n\n  function run_callbacks() {\n    try {\n      root._bokeh_onload_callbacks.forEach(function(callback) {\n        if (callback != null)\n          callback();\n      });\n    } finally {\n      delete root._bokeh_onload_callbacks\n    }\n    console.debug(\"Bokeh: all callbacks have finished\");\n  }\n\n  function load_libs(css_urls, js_urls, callback) {\n    if (css_urls == null) css_urls = [];\n    if (js_urls == null) js_urls = [];\n\n    root._bokeh_onload_callbacks.push(callback);\n    if (root._bokeh_is_loading > 0) {\n      console.debug(\"Bokeh: BokehJS is being loaded, scheduling callback at\", now());\n      return null;\n    }\n    if (js_urls == null || js_urls.length === 0) {\n      run_callbacks();\n      return null;\n    }\n    console.debug(\"Bokeh: BokehJS not loaded, scheduling load and callback at\", now());\n    root._bokeh_is_loading = css_urls.length + js_urls.length;\n\n    function on_load() {\n      root._bokeh_is_loading--;\n      if (root._bokeh_is_loading === 0) {\n        console.debug(\"Bokeh: all BokehJS libraries/stylesheets loaded\");\n        run_callbacks()\n      }\n    }\n\n    function on_error(url) {\n      console.error(\"failed to load \" + url);\n    }\n\n    for (let i = 0; i < css_urls.length; i++) {\n      const url = css_urls[i];\n      const element = document.createElement(\"link\");\n      element.onload = on_load;\n      element.onerror = on_error.bind(null, url);\n      element.rel = \"stylesheet\";\n      element.type = \"text/css\";\n      element.href = url;\n      console.debug(\"Bokeh: injecting link tag for BokehJS stylesheet: \", url);\n      document.body.appendChild(element);\n    }\n\n    for (let i = 0; i < js_urls.length; i++) {\n      const url = js_urls[i];\n      const element = document.createElement('script');\n      element.onload = on_load;\n      element.onerror = on_error.bind(null, url);\n      element.async = false;\n      element.src = url;\n      console.debug(\"Bokeh: injecting script tag for BokehJS library: \", url);\n      document.head.appendChild(element);\n    }\n  };\n\n  function inject_raw_css(css) {\n    const element = document.createElement(\"style\");\n    element.appendChild(document.createTextNode(css));\n    document.body.appendChild(element);\n  }\n\n  \n  const js_urls = [\"https://cdn.bokeh.org/bokeh/release/bokeh-2.4.1.min.js\", \"https://cdn.bokeh.org/bokeh/release/bokeh-gl-2.4.1.min.js\", \"https://cdn.bokeh.org/bokeh/release/bokeh-widgets-2.4.1.min.js\", \"https://cdn.bokeh.org/bokeh/release/bokeh-tables-2.4.1.min.js\", \"https://cdn.bokeh.org/bokeh/release/bokeh-mathjax-2.4.1.min.js\"];\n  const css_urls = [];\n  \n\n  const inline_js = [\n    function(Bokeh) {\n      Bokeh.set_log_level(\"info\");\n    },\n    function(Bokeh) {\n    \n    \n    }\n  ];\n\n  function run_inline_js() {\n    \n    if (root.Bokeh !== undefined || force === true) {\n      \n    for (let i = 0; i < inline_js.length; i++) {\n      inline_js[i].call(root, root.Bokeh);\n    }\n    if (force === true) {\n        display_loaded();\n      }} else if (Date.now() < root._bokeh_timeout) {\n      setTimeout(run_inline_js, 100);\n    } else if (!root._bokeh_failed_load) {\n      console.log(\"Bokeh: BokehJS failed to load within specified timeout.\");\n      root._bokeh_failed_load = true;\n    } else if (force !== true) {\n      const cell = $(document.getElementById(\"5216\")).parents('.cell').data().cell;\n      cell.output_area.append_execute_result(NB_LOAD_WARNING)\n    }\n\n  }\n\n  if (root._bokeh_is_loading === 0) {\n    console.debug(\"Bokeh: BokehJS loaded, going straight to plotting\");\n    run_inline_js();\n  } else {\n    load_libs(css_urls, js_urls, function() {\n      console.debug(\"Bokeh: BokehJS plotting callback run at\", now());\n      run_inline_js();\n    });\n  }\n}(window));",
      "application/vnd.bokehjs_load.v0+json": ""
     },
     "metadata": {},
     "output_type": "display_data"
    },
    {
     "data": {
      "text/html": [
       "\n",
       "\n",
       "\n",
       "\n",
       "\n",
       "\n",
       "  <div class=\"bk-root\" id=\"099b134e-a185-4239-a27a-f8f234a72e05\" data-root-id=\"5191\"></div>\n"
      ]
     },
     "metadata": {},
     "output_type": "display_data"
    },
    {
     "data": {
      "application/javascript": "(function(root) {\n  function embed_document(root) {\n    \n  const docs_json = {\"691f27d3-365e-4a17-809c-4286ecd6c6a7\":{\"defs\":[],\"roots\":{\"references\":[{\"attributes\":{\"below\":[{\"id\":\"5202\"}],\"center\":[{\"id\":\"5204\"},{\"id\":\"5208\"}],\"height\":250,\"left\":[{\"id\":\"5205\"}],\"renderers\":[{\"id\":\"5214\"}],\"title\":{\"id\":\"5192\"},\"toolbar\":{\"id\":\"5209\"},\"toolbar_location\":null,\"x_range\":{\"id\":\"5194\"},\"x_scale\":{\"id\":\"5198\"},\"y_range\":{\"id\":\"5196\"},\"y_scale\":{\"id\":\"5200\"}},\"id\":\"5191\",\"subtype\":\"Figure\",\"type\":\"Plot\"},{\"attributes\":{\"fill_alpha\":{\"value\":0.2},\"fill_color\":{\"value\":\"#1f77b4\"},\"hatch_alpha\":{\"value\":0.2},\"line_alpha\":{\"value\":0.2},\"line_color\":{\"value\":\"#1f77b4\"},\"top\":{\"field\":\"top\"},\"width\":{\"value\":0.9},\"x\":{\"field\":\"x\"}},\"id\":\"5213\",\"type\":\"VBar\"},{\"attributes\":{},\"id\":\"5398\",\"type\":\"BasicTickFormatter\"},{\"attributes\":{\"axis\":{\"id\":\"5205\"},\"coordinates\":null,\"dimension\":1,\"group\":null,\"ticker\":null},\"id\":\"5208\",\"type\":\"Grid\"},{\"attributes\":{},\"id\":\"5399\",\"type\":\"AllLabels\"},{\"attributes\":{},\"id\":\"5401\",\"type\":\"CategoricalTickFormatter\"},{\"attributes\":{},\"id\":\"5402\",\"type\":\"AllLabels\"},{\"attributes\":{},\"id\":\"5209\",\"type\":\"Toolbar\"},{\"attributes\":{},\"id\":\"5200\",\"type\":\"LinearScale\"},{\"attributes\":{\"start\":0},\"id\":\"5196\",\"type\":\"DataRange1d\"},{\"attributes\":{\"axis\":{\"id\":\"5202\"},\"coordinates\":null,\"grid_line_color\":null,\"group\":null,\"ticker\":null},\"id\":\"5204\",\"type\":\"Grid\"},{\"attributes\":{\"fill_color\":{\"value\":\"#1f77b4\"},\"line_color\":{\"value\":\"#1f77b4\"},\"top\":{\"field\":\"top\"},\"width\":{\"value\":0.9},\"x\":{\"field\":\"x\"}},\"id\":\"5211\",\"type\":\"VBar\"},{\"attributes\":{},\"id\":\"5198\",\"type\":\"CategoricalScale\"},{\"attributes\":{\"factors\":[\"confirmed\",\"recovered\",\"deaths\"]},\"id\":\"5194\",\"type\":\"FactorRange\"},{\"attributes\":{},\"id\":\"5403\",\"type\":\"UnionRenderers\"},{\"attributes\":{\"source\":{\"id\":\"5210\"}},\"id\":\"5215\",\"type\":\"CDSView\"},{\"attributes\":{\"fill_alpha\":{\"value\":0.1},\"fill_color\":{\"value\":\"#1f77b4\"},\"hatch_alpha\":{\"value\":0.1},\"line_alpha\":{\"value\":0.1},\"line_color\":{\"value\":\"#1f77b4\"},\"top\":{\"field\":\"top\"},\"width\":{\"value\":0.9},\"x\":{\"field\":\"x\"}},\"id\":\"5212\",\"type\":\"VBar\"},{\"attributes\":{},\"id\":\"5404\",\"type\":\"Selection\"},{\"attributes\":{},\"id\":\"5206\",\"type\":\"BasicTicker\"},{\"attributes\":{\"coordinates\":null,\"group\":null,\"text\":\"Fruit counts\"},\"id\":\"5192\",\"type\":\"Title\"},{\"attributes\":{\"data\":{\"top\":[58730,52392,2572],\"x\":[\"confirmed\",\"recovered\",\"deaths\"]},\"selected\":{\"id\":\"5404\"},\"selection_policy\":{\"id\":\"5403\"}},\"id\":\"5210\",\"type\":\"ColumnDataSource\"},{\"attributes\":{\"coordinates\":null,\"data_source\":{\"id\":\"5210\"},\"glyph\":{\"id\":\"5211\"},\"group\":null,\"hover_glyph\":null,\"muted_glyph\":{\"id\":\"5213\"},\"nonselection_glyph\":{\"id\":\"5212\"},\"view\":{\"id\":\"5215\"}},\"id\":\"5214\",\"type\":\"GlyphRenderer\"},{\"attributes\":{\"coordinates\":null,\"formatter\":{\"id\":\"5401\"},\"group\":null,\"major_label_policy\":{\"id\":\"5402\"},\"ticker\":{\"id\":\"5203\"}},\"id\":\"5202\",\"type\":\"CategoricalAxis\"},{\"attributes\":{},\"id\":\"5203\",\"type\":\"CategoricalTicker\"},{\"attributes\":{\"coordinates\":null,\"formatter\":{\"id\":\"5398\"},\"group\":null,\"major_label_policy\":{\"id\":\"5399\"},\"ticker\":{\"id\":\"5206\"}},\"id\":\"5205\",\"type\":\"LinearAxis\"}],\"root_ids\":[\"5191\"]},\"title\":\"Bokeh Application\",\"version\":\"2.4.1\"}};\n  const render_items = [{\"docid\":\"691f27d3-365e-4a17-809c-4286ecd6c6a7\",\"root_ids\":[\"5191\"],\"roots\":{\"5191\":\"099b134e-a185-4239-a27a-f8f234a72e05\"}}];\n  root.Bokeh.embed.embed_items_notebook(docs_json, render_items);\n\n  }\n  if (root.Bokeh !== undefined) {\n    embed_document(root);\n  } else {\n    let attempts = 0;\n    const timer = setInterval(function(root) {\n      if (root.Bokeh !== undefined) {\n        clearInterval(timer);\n        embed_document(root);\n      } else {\n        attempts++;\n        if (attempts > 100) {\n          clearInterval(timer);\n          console.log(\"Bokeh: ERROR: Unable to run BokehJS code because BokehJS library is missing\");\n        }\n      }\n    }, 10, root)\n  }\n})(window);",
      "application/vnd.bokehjs_exec.v0+json": ""
     },
     "metadata": {
      "application/vnd.bokehjs_exec.v0+json": {
       "id": "5191"
      }
     },
     "output_type": "display_data"
    }
   ],
   "source": [
    "from bokeh.io import output_file, show\n",
    "from bokeh.plotting import figure\n",
    "\n",
    "\n",
    "stats = list(source.keys())[1:]\n",
    "counts = list(source.values())[1:]\n",
    "\n",
    "p = figure(x_range=stats, height=250, title=\"Fruit counts\",\n",
    "           toolbar_location=None, tools=\"\")\n",
    "\n",
    "p.vbar(x=stats, top=counts, width=0.9)\n",
    "\n",
    "p.xgrid.grid_line_color = None\n",
    "p.y_range.start = 0\n",
    "\n",
    "bokeh.io.output_notebook()\n",
    "bokeh.plotting.show(p)"
   ]
  },
  {
   "cell_type": "code",
   "execution_count": 56,
   "metadata": {},
   "outputs": [
    {
     "data": {
      "text/plain": [
       "array([-2. , -1.5, -1. , -0.5,  0. ,  0.5,  1. ,  1.5,  2. ])"
      ]
     },
     "execution_count": 56,
     "metadata": {},
     "output_type": "execute_result"
    }
   ],
   "source": [
    "x"
   ]
  },
  {
   "cell_type": "code",
   "execution_count": 49,
   "metadata": {},
   "outputs": [
    {
     "data": {
      "text/html": [
       "\n",
       "    <div class=\"bk-root\">\n",
       "        <a href=\"https://bokeh.org\" target=\"_blank\" class=\"bk-logo bk-logo-small bk-logo-notebook\"></a>\n",
       "        <span id=\"5854\">Loading BokehJS ...</span>\n",
       "    </div>"
      ]
     },
     "metadata": {},
     "output_type": "display_data"
    },
    {
     "data": {
      "application/javascript": "\n(function(root) {\n  function now() {\n    return new Date();\n  }\n\n  const force = true;\n\n  if (typeof root._bokeh_onload_callbacks === \"undefined\" || force === true) {\n    root._bokeh_onload_callbacks = [];\n    root._bokeh_is_loading = undefined;\n  }\n\n  const JS_MIME_TYPE = 'application/javascript';\n  const HTML_MIME_TYPE = 'text/html';\n  const EXEC_MIME_TYPE = 'application/vnd.bokehjs_exec.v0+json';\n  const CLASS_NAME = 'output_bokeh rendered_html';\n\n  /**\n   * Render data to the DOM node\n   */\n  function render(props, node) {\n    const script = document.createElement(\"script\");\n    node.appendChild(script);\n  }\n\n  /**\n   * Handle when an output is cleared or removed\n   */\n  function handleClearOutput(event, handle) {\n    const cell = handle.cell;\n\n    const id = cell.output_area._bokeh_element_id;\n    const server_id = cell.output_area._bokeh_server_id;\n    // Clean up Bokeh references\n    if (id != null && id in Bokeh.index) {\n      Bokeh.index[id].model.document.clear();\n      delete Bokeh.index[id];\n    }\n\n    if (server_id !== undefined) {\n      // Clean up Bokeh references\n      const cmd_clean = \"from bokeh.io.state import curstate; print(curstate().uuid_to_server['\" + server_id + \"'].get_sessions()[0].document.roots[0]._id)\";\n      cell.notebook.kernel.execute(cmd_clean, {\n        iopub: {\n          output: function(msg) {\n            const id = msg.content.text.trim();\n            if (id in Bokeh.index) {\n              Bokeh.index[id].model.document.clear();\n              delete Bokeh.index[id];\n            }\n          }\n        }\n      });\n      // Destroy server and session\n      const cmd_destroy = \"import bokeh.io.notebook as ion; ion.destroy_server('\" + server_id + \"')\";\n      cell.notebook.kernel.execute(cmd_destroy);\n    }\n  }\n\n  /**\n   * Handle when a new output is added\n   */\n  function handleAddOutput(event, handle) {\n    const output_area = handle.output_area;\n    const output = handle.output;\n\n    // limit handleAddOutput to display_data with EXEC_MIME_TYPE content only\n    if ((output.output_type != \"display_data\") || (!Object.prototype.hasOwnProperty.call(output.data, EXEC_MIME_TYPE))) {\n      return\n    }\n\n    const toinsert = output_area.element.find(\".\" + CLASS_NAME.split(' ')[0]);\n\n    if (output.metadata[EXEC_MIME_TYPE][\"id\"] !== undefined) {\n      toinsert[toinsert.length - 1].firstChild.textContent = output.data[JS_MIME_TYPE];\n      // store reference to embed id on output_area\n      output_area._bokeh_element_id = output.metadata[EXEC_MIME_TYPE][\"id\"];\n    }\n    if (output.metadata[EXEC_MIME_TYPE][\"server_id\"] !== undefined) {\n      const bk_div = document.createElement(\"div\");\n      bk_div.innerHTML = output.data[HTML_MIME_TYPE];\n      const script_attrs = bk_div.children[0].attributes;\n      for (let i = 0; i < script_attrs.length; i++) {\n        toinsert[toinsert.length - 1].firstChild.setAttribute(script_attrs[i].name, script_attrs[i].value);\n        toinsert[toinsert.length - 1].firstChild.textContent = bk_div.children[0].textContent\n      }\n      // store reference to server id on output_area\n      output_area._bokeh_server_id = output.metadata[EXEC_MIME_TYPE][\"server_id\"];\n    }\n  }\n\n  function register_renderer(events, OutputArea) {\n\n    function append_mime(data, metadata, element) {\n      // create a DOM node to render to\n      const toinsert = this.create_output_subarea(\n        metadata,\n        CLASS_NAME,\n        EXEC_MIME_TYPE\n      );\n      this.keyboard_manager.register_events(toinsert);\n      // Render to node\n      const props = {data: data, metadata: metadata[EXEC_MIME_TYPE]};\n      render(props, toinsert[toinsert.length - 1]);\n      element.append(toinsert);\n      return toinsert\n    }\n\n    /* Handle when an output is cleared or removed */\n    events.on('clear_output.CodeCell', handleClearOutput);\n    events.on('delete.Cell', handleClearOutput);\n\n    /* Handle when a new output is added */\n    events.on('output_added.OutputArea', handleAddOutput);\n\n    /**\n     * Register the mime type and append_mime function with output_area\n     */\n    OutputArea.prototype.register_mime_type(EXEC_MIME_TYPE, append_mime, {\n      /* Is output safe? */\n      safe: true,\n      /* Index of renderer in `output_area.display_order` */\n      index: 0\n    });\n  }\n\n  // register the mime type if in Jupyter Notebook environment and previously unregistered\n  if (root.Jupyter !== undefined) {\n    const events = require('base/js/events');\n    const OutputArea = require('notebook/js/outputarea').OutputArea;\n\n    if (OutputArea.prototype.mime_types().indexOf(EXEC_MIME_TYPE) == -1) {\n      register_renderer(events, OutputArea);\n    }\n  }\n\n  \n  if (typeof (root._bokeh_timeout) === \"undefined\" || force === true) {\n    root._bokeh_timeout = Date.now() + 5000;\n    root._bokeh_failed_load = false;\n  }\n\n  const NB_LOAD_WARNING = {'data': {'text/html':\n     \"<div style='background-color: #fdd'>\\n\"+\n     \"<p>\\n\"+\n     \"BokehJS does not appear to have successfully loaded. If loading BokehJS from CDN, this \\n\"+\n     \"may be due to a slow or bad network connection. Possible fixes:\\n\"+\n     \"</p>\\n\"+\n     \"<ul>\\n\"+\n     \"<li>re-rerun `output_notebook()` to attempt to load from CDN again, or</li>\\n\"+\n     \"<li>use INLINE resources instead, as so:</li>\\n\"+\n     \"</ul>\\n\"+\n     \"<code>\\n\"+\n     \"from bokeh.resources import INLINE\\n\"+\n     \"output_notebook(resources=INLINE)\\n\"+\n     \"</code>\\n\"+\n     \"</div>\"}};\n\n  function display_loaded() {\n    const el = document.getElementById(\"5854\");\n    if (el != null) {\n      el.textContent = \"BokehJS is loading...\";\n    }\n    if (root.Bokeh !== undefined) {\n      if (el != null) {\n        el.textContent = \"BokehJS \" + root.Bokeh.version + \" successfully loaded.\";\n      }\n    } else if (Date.now() < root._bokeh_timeout) {\n      setTimeout(display_loaded, 100)\n    }\n  }\n\n\n  function run_callbacks() {\n    try {\n      root._bokeh_onload_callbacks.forEach(function(callback) {\n        if (callback != null)\n          callback();\n      });\n    } finally {\n      delete root._bokeh_onload_callbacks\n    }\n    console.debug(\"Bokeh: all callbacks have finished\");\n  }\n\n  function load_libs(css_urls, js_urls, callback) {\n    if (css_urls == null) css_urls = [];\n    if (js_urls == null) js_urls = [];\n\n    root._bokeh_onload_callbacks.push(callback);\n    if (root._bokeh_is_loading > 0) {\n      console.debug(\"Bokeh: BokehJS is being loaded, scheduling callback at\", now());\n      return null;\n    }\n    if (js_urls == null || js_urls.length === 0) {\n      run_callbacks();\n      return null;\n    }\n    console.debug(\"Bokeh: BokehJS not loaded, scheduling load and callback at\", now());\n    root._bokeh_is_loading = css_urls.length + js_urls.length;\n\n    function on_load() {\n      root._bokeh_is_loading--;\n      if (root._bokeh_is_loading === 0) {\n        console.debug(\"Bokeh: all BokehJS libraries/stylesheets loaded\");\n        run_callbacks()\n      }\n    }\n\n    function on_error(url) {\n      console.error(\"failed to load \" + url);\n    }\n\n    for (let i = 0; i < css_urls.length; i++) {\n      const url = css_urls[i];\n      const element = document.createElement(\"link\");\n      element.onload = on_load;\n      element.onerror = on_error.bind(null, url);\n      element.rel = \"stylesheet\";\n      element.type = \"text/css\";\n      element.href = url;\n      console.debug(\"Bokeh: injecting link tag for BokehJS stylesheet: \", url);\n      document.body.appendChild(element);\n    }\n\n    for (let i = 0; i < js_urls.length; i++) {\n      const url = js_urls[i];\n      const element = document.createElement('script');\n      element.onload = on_load;\n      element.onerror = on_error.bind(null, url);\n      element.async = false;\n      element.src = url;\n      console.debug(\"Bokeh: injecting script tag for BokehJS library: \", url);\n      document.head.appendChild(element);\n    }\n  };\n\n  function inject_raw_css(css) {\n    const element = document.createElement(\"style\");\n    element.appendChild(document.createTextNode(css));\n    document.body.appendChild(element);\n  }\n\n  \n  const js_urls = [\"https://cdn.bokeh.org/bokeh/release/bokeh-2.4.1.min.js\", \"https://cdn.bokeh.org/bokeh/release/bokeh-gl-2.4.1.min.js\", \"https://cdn.bokeh.org/bokeh/release/bokeh-widgets-2.4.1.min.js\", \"https://cdn.bokeh.org/bokeh/release/bokeh-tables-2.4.1.min.js\", \"https://cdn.bokeh.org/bokeh/release/bokeh-mathjax-2.4.1.min.js\"];\n  const css_urls = [];\n  \n\n  const inline_js = [\n    function(Bokeh) {\n      Bokeh.set_log_level(\"info\");\n    },\n    function(Bokeh) {\n    \n    \n    }\n  ];\n\n  function run_inline_js() {\n    \n    if (root.Bokeh !== undefined || force === true) {\n      \n    for (let i = 0; i < inline_js.length; i++) {\n      inline_js[i].call(root, root.Bokeh);\n    }\n    if (force === true) {\n        display_loaded();\n      }} else if (Date.now() < root._bokeh_timeout) {\n      setTimeout(run_inline_js, 100);\n    } else if (!root._bokeh_failed_load) {\n      console.log(\"Bokeh: BokehJS failed to load within specified timeout.\");\n      root._bokeh_failed_load = true;\n    } else if (force !== true) {\n      const cell = $(document.getElementById(\"5854\")).parents('.cell').data().cell;\n      cell.output_area.append_execute_result(NB_LOAD_WARNING)\n    }\n\n  }\n\n  if (root._bokeh_is_loading === 0) {\n    console.debug(\"Bokeh: BokehJS loaded, going straight to plotting\");\n    run_inline_js();\n  } else {\n    load_libs(css_urls, js_urls, function() {\n      console.debug(\"Bokeh: BokehJS plotting callback run at\", now());\n      run_inline_js();\n    });\n  }\n}(window));",
      "application/vnd.bokehjs_load.v0+json": ""
     },
     "metadata": {},
     "output_type": "display_data"
    },
    {
     "data": {
      "text/html": [
       "\n",
       "\n",
       "\n",
       "\n",
       "\n",
       "\n",
       "  <div class=\"bk-root\" id=\"b6c10c4f-1ba9-4093-b714-42046dcbce92\" data-root-id=\"5817\"></div>\n"
      ]
     },
     "metadata": {},
     "output_type": "display_data"
    },
    {
     "data": {
      "application/javascript": "(function(root) {\n  function embed_document(root) {\n    \n  const docs_json = {\"5c57f518-e0b0-4b10-91bf-b80af3e9e200\":{\"defs\":[],\"roots\":{\"references\":[{\"attributes\":{\"below\":[{\"id\":\"5826\"}],\"center\":[{\"id\":\"5829\"},{\"id\":\"5833\"}],\"left\":[{\"id\":\"5830\"}],\"renderers\":[{\"id\":\"5852\"}],\"title\":{\"id\":\"6175\"},\"toolbar\":{\"id\":\"5841\"},\"width\":800,\"x_range\":{\"id\":\"5818\"},\"x_scale\":{\"id\":\"5822\"},\"y_range\":{\"id\":\"5820\"},\"y_scale\":{\"id\":\"5824\"}},\"id\":\"5817\",\"subtype\":\"Figure\",\"type\":\"Plot\"},{\"attributes\":{},\"id\":\"5824\",\"type\":\"LinearScale\"},{\"attributes\":{\"days\":[1,4,7,10,13,16,19,22,25,28]},\"id\":\"6190\",\"type\":\"DaysTicker\"},{\"attributes\":{\"months\":[0,6]},\"id\":\"6196\",\"type\":\"MonthsTicker\"},{\"attributes\":{\"axis_label_text_font_style\":\"bold\",\"coordinates\":null,\"formatter\":{\"id\":\"6181\"},\"group\":null,\"major_label_policy\":{\"id\":\"6182\"},\"ticker\":{\"id\":\"5827\"}},\"id\":\"5826\",\"type\":\"DatetimeAxis\"},{\"attributes\":{},\"id\":\"6197\",\"type\":\"YearsTicker\"},{\"attributes\":{},\"id\":\"5822\",\"type\":\"LinearScale\"},{\"attributes\":{\"months\":[0,2,4,6,8,10]},\"id\":\"6194\",\"type\":\"MonthsTicker\"},{\"attributes\":{\"coordinates\":null,\"data_source\":{\"id\":\"3996\"},\"glyph\":{\"id\":\"5849\"},\"group\":null,\"hover_glyph\":null,\"muted_glyph\":{\"id\":\"5851\"},\"nonselection_glyph\":{\"id\":\"5850\"},\"view\":{\"id\":\"5853\"}},\"id\":\"5852\",\"type\":\"GlyphRenderer\"},{\"attributes\":{},\"id\":\"6178\",\"type\":\"BasicTickFormatter\"},{\"attributes\":{\"num_minor_ticks\":5,\"tickers\":[{\"id\":\"6186\"},{\"id\":\"6187\"},{\"id\":\"6188\"},{\"id\":\"6189\"},{\"id\":\"6190\"},{\"id\":\"6191\"},{\"id\":\"6192\"},{\"id\":\"6193\"},{\"id\":\"6194\"},{\"id\":\"6195\"},{\"id\":\"6196\"},{\"id\":\"6197\"}]},\"id\":\"5827\",\"type\":\"DatetimeTicker\"},{\"attributes\":{\"months\":[0,1,2,3,4,5,6,7,8,9,10,11]},\"id\":\"6193\",\"type\":\"MonthsTicker\"},{\"attributes\":{\"axis\":{\"id\":\"5826\"},\"coordinates\":null,\"group\":null,\"ticker\":null},\"id\":\"5829\",\"type\":\"Grid\"},{\"attributes\":{\"base\":24,\"mantissas\":[1,2,4,6,8,12],\"max_interval\":43200000.0,\"min_interval\":3600000.0,\"num_minor_ticks\":0},\"id\":\"6188\",\"type\":\"AdaptiveTicker\"},{\"attributes\":{\"tools\":[{\"id\":\"5834\"},{\"id\":\"5835\"},{\"id\":\"5836\"},{\"id\":\"5837\"},{\"id\":\"5838\"},{\"id\":\"5839\"}]},\"id\":\"5841\",\"type\":\"Toolbar\"},{\"attributes\":{\"line_alpha\":0.1,\"line_color\":\"red\",\"x\":{\"field\":\"name\"},\"y\":{\"field\":\"value\"}},\"id\":\"5850\",\"type\":\"Line\"},{\"attributes\":{},\"id\":\"5839\",\"type\":\"HelpTool\"},{\"attributes\":{\"mantissas\":[1,2,5],\"max_interval\":500.0,\"num_minor_ticks\":0},\"id\":\"6186\",\"type\":\"AdaptiveTicker\"},{\"attributes\":{\"line_alpha\":0.2,\"line_color\":\"red\",\"x\":{\"field\":\"name\"},\"y\":{\"field\":\"value\"}},\"id\":\"5851\",\"type\":\"Line\"},{\"attributes\":{\"axis_label\":\"Cases\",\"axis_label_text_font_style\":\"bold\",\"coordinates\":null,\"formatter\":{\"id\":\"6178\"},\"group\":null,\"major_label_policy\":{\"id\":\"6179\"},\"ticker\":{\"id\":\"5831\"}},\"id\":\"5830\",\"type\":\"LinearAxis\"},{\"attributes\":{\"bottom_units\":\"screen\",\"coordinates\":null,\"fill_alpha\":0.5,\"fill_color\":\"lightgrey\",\"group\":null,\"left_units\":\"screen\",\"level\":\"overlay\",\"line_alpha\":1.0,\"line_color\":\"black\",\"line_dash\":[4,4],\"line_width\":2,\"right_units\":\"screen\",\"syncable\":false,\"top_units\":\"screen\"},\"id\":\"5840\",\"type\":\"BoxAnnotation\"},{\"attributes\":{\"source\":{\"id\":\"3996\"}},\"id\":\"5853\",\"type\":\"CDSView\"},{\"attributes\":{},\"id\":\"5838\",\"type\":\"ResetTool\"},{\"attributes\":{},\"id\":\"5837\",\"type\":\"SaveTool\"},{\"attributes\":{\"coordinates\":null,\"group\":null},\"id\":\"6175\",\"type\":\"Title\"},{\"attributes\":{\"overlay\":{\"id\":\"5840\"}},\"id\":\"5836\",\"type\":\"BoxZoomTool\"},{\"attributes\":{},\"id\":\"5834\",\"type\":\"PanTool\"},{\"attributes\":{\"days\":[1,15]},\"id\":\"6192\",\"type\":\"DaysTicker\"},{\"attributes\":{},\"id\":\"5835\",\"type\":\"WheelZoomTool\"},{\"attributes\":{\"data\":{\"name\":[1579651200000.0,1579737600000.0,1579824000000.0,1579910400000.0,1579996800000.0,1580083200000.0,1580169600000.0,1580256000000.0,1580342400000.0,1580428800000.0,1580515200000.0,1580601600000.0,1580688000000.0,1580774400000.0,1580860800000.0,1580947200000.0,1581033600000.0,1581120000000.0,1581206400000.0,1581292800000.0,1581379200000.0,1581465600000.0,1581552000000.0,1581638400000.0,1581724800000.0,1581811200000.0,1581897600000.0,1581984000000.0,1582070400000.0,1582156800000.0,1582243200000.0,1582329600000.0,1582416000000.0,1582502400000.0,1582588800000.0,1582675200000.0,1582761600000.0,1582848000000.0,1582934400000.0,1583020800000.0,1583107200000.0,1583193600000.0,1583280000000.0,1583366400000.0,1583452800000.0,1583539200000.0,1583625600000.0,1583712000000.0,1583798400000.0,1583884800000.0,1583971200000.0,1584057600000.0,1584144000000.0,1584230400000.0,1584316800000.0,1584403200000.0,1584489600000.0,1584576000000.0,1584662400000.0,1584748800000.0,1584835200000.0,1584921600000.0,1585008000000.0,1585094400000.0,1585180800000.0,1585267200000.0,1585353600000.0,1585440000000.0,1585526400000.0,1585612800000.0,1585699200000.0,1585785600000.0,1585872000000.0,1585958400000.0,1586044800000.0,1586131200000.0,1586217600000.0,1586304000000.0,1586390400000.0,1586476800000.0,1586563200000.0,1586649600000.0,1586736000000.0,1586822400000.0,1586908800000.0,1586995200000.0,1587081600000.0,1587168000000.0,1587254400000.0,1587340800000.0,1587427200000.0,1587513600000.0,1587600000000.0,1587686400000.0,1587772800000.0,1587859200000.0,1587945600000.0,1588032000000.0,1588118400000.0,1588204800000.0,1588291200000.0,1588377600000.0,1588464000000.0,1588550400000.0,1588636800000.0,1588723200000.0,1588809600000.0,1588896000000.0,1588982400000.0,1589068800000.0,1589155200000.0,1589241600000.0,1589328000000.0,1589414400000.0,1589500800000.0,1589587200000.0,1589673600000.0,1589760000000.0,1589846400000.0,1589932800000.0,1590019200000.0,1590105600000.0,1590192000000.0,1590278400000.0,1590364800000.0,1590451200000.0,1590537600000.0,1590624000000.0,1590710400000.0,1590796800000.0,1590883200000.0,1590969600000.0,1591056000000.0,1591142400000.0,1591228800000.0,1591315200000.0,1591401600000.0,1591488000000.0,1591574400000.0,1591660800000.0,1591747200000.0,1591833600000.0,1591920000000.0,1592006400000.0,1592092800000.0,1592179200000.0,1592265600000.0,1592352000000.0,1592438400000.0,1592524800000.0,1592611200000.0,1592697600000.0,1592784000000.0,1592870400000.0,1592956800000.0,1593043200000.0,1593129600000.0,1593216000000.0,1593302400000.0,1593388800000.0,1593475200000.0,1593561600000.0,1593648000000.0,1593734400000.0,1593820800000.0,1593907200000.0,1593993600000.0,1594080000000.0,1594166400000.0,1594252800000.0,1594339200000.0,1594425600000.0,1594512000000.0,1594598400000.0,1594684800000.0,1594771200000.0,1594857600000.0,1594944000000.0,1595030400000.0,1595116800000.0,1595203200000.0,1595289600000.0,1595376000000.0,1595462400000.0,1595548800000.0,1595635200000.0,1595721600000.0,1595808000000.0,1595894400000.0,1595980800000.0,1596067200000.0,1596153600000.0,1596240000000.0,1596326400000.0,1596412800000.0,1596499200000.0,1596585600000.0,1596672000000.0,1596758400000.0,1596844800000.0,1596931200000.0,1597017600000.0,1597104000000.0,1597190400000.0,1597276800000.0,1597363200000.0,1597449600000.0,1597536000000.0,1597622400000.0,1597708800000.0,1597795200000.0,1597881600000.0,1597968000000.0,1598054400000.0,1598140800000.0,1598227200000.0,1598313600000.0,1598400000000.0,1598486400000.0,1598572800000.0,1598659200000.0,1598745600000.0,1598832000000.0,1598918400000.0,1599004800000.0,1599091200000.0,1599177600000.0,1599264000000.0,1599350400000.0,1599436800000.0,1599523200000.0,1599609600000.0,1599696000000.0,1599782400000.0,1599868800000.0,1599955200000.0,1600041600000.0,1600128000000.0,1600214400000.0,1600300800000.0,1600387200000.0,1600473600000.0,1600560000000.0,1600646400000.0,1600732800000.0,1600819200000.0,1600905600000.0,1600992000000.0,1601078400000.0,1601164800000.0,1601251200000.0,1601337600000.0,1601424000000.0,1601510400000.0,1601596800000.0,1601683200000.0,1601769600000.0,1601856000000.0,1601942400000.0,1602028800000.0,1602115200000.0,1602201600000.0,1602288000000.0,1602374400000.0,1602460800000.0,1602547200000.0,1602633600000.0,1602720000000.0,1602806400000.0,1602892800000.0,1602979200000.0,1603065600000.0,1603152000000.0,1603238400000.0,1603324800000.0,1603411200000.0,1603497600000.0,1603584000000.0,1603670400000.0,1603756800000.0,1603843200000.0,1603929600000.0,1604016000000.0,1604102400000.0,1604188800000.0,1604275200000.0,1604361600000.0,1604448000000.0,1604534400000.0,1604620800000.0,1604707200000.0,1604793600000.0,1604880000000.0,1604966400000.0,1605052800000.0,1605139200000.0,1605225600000.0,1605312000000.0,1605398400000.0,1605484800000.0,1605571200000.0,1605657600000.0,1605744000000.0,1605830400000.0,1605916800000.0,1606003200000.0,1606089600000.0,1606176000000.0,1606262400000.0,1606348800000.0,1606435200000.0,1606521600000.0,1606608000000.0,1606694400000.0,1606780800000.0,1606867200000.0,1606953600000.0,1607040000000.0,1607126400000.0,1607212800000.0,1607299200000.0,1607385600000.0,1607472000000.0,1607558400000.0,1607644800000.0,1607731200000.0,1607817600000.0,1607904000000.0,1607990400000.0,1608076800000.0,1608163200000.0,1608249600000.0,1608336000000.0,1608422400000.0,1608508800000.0,1608595200000.0,1608681600000.0,1608768000000.0,1608854400000.0,1608940800000.0,1609027200000.0,1609113600000.0,1609200000000.0,1609286400000.0,1609372800000.0,1609459200000.0,1609545600000.0,1609632000000.0,1609718400000.0,1609804800000.0,1609891200000.0,1609977600000.0,1610064000000.0,1610150400000.0,1610236800000.0,1610323200000.0,1610409600000.0,1610496000000.0,1610582400000.0,1610668800000.0,1610755200000.0,1610841600000.0,1610928000000.0,1611014400000.0,1611100800000.0,1611187200000.0,1611273600000.0,1611360000000.0,1611446400000.0,1611532800000.0,1611619200000.0,1611705600000.0,1611792000000.0,1611878400000.0,1611964800000.0,1612051200000.0,1612137600000.0,1612224000000.0,1612310400000.0,1612396800000.0,1612483200000.0,1612569600000.0,1612656000000.0,1612742400000.0,1612828800000.0,1612915200000.0,1613001600000.0,1613088000000.0,1613174400000.0,1613260800000.0,1613347200000.0,1613433600000.0,1613520000000.0,1613606400000.0,1613692800000.0,1613779200000.0,1613865600000.0,1613952000000.0,1614038400000.0,1614124800000.0,1614211200000.0,1614297600000.0,1614384000000.0,1614470400000.0,1614556800000.0,1614643200000.0,1614729600000.0,1614816000000.0,1614902400000.0,1614988800000.0,1615075200000.0,1615161600000.0,1615248000000.0,1615334400000.0,1615420800000.0,1615507200000.0,1615593600000.0,1615680000000.0,1615766400000.0,1615852800000.0,1615939200000.0,1616025600000.0,1616112000000.0,1616198400000.0,1616284800000.0,1616371200000.0,1616457600000.0,1616544000000.0,1616630400000.0,1616716800000.0,1616803200000.0,1616889600000.0,1616976000000.0,1617062400000.0,1617148800000.0,1617235200000.0,1617321600000.0,1617408000000.0,1617494400000.0,1617580800000.0,1617667200000.0,1617753600000.0,1617840000000.0,1617926400000.0,1618012800000.0,1618099200000.0,1618185600000.0,1618272000000.0,1618358400000.0,1618444800000.0,1618531200000.0,1618617600000.0,1618704000000.0,1618790400000.0,1618876800000.0,1618963200000.0,1619049600000.0,1619136000000.0,1619222400000.0],\"value\":[557,655,941,1433,2118,2927,5578,6167,8235,9927,12038,16787,19887,23898,27643,30803,34396,37130,40160,42769,44811,45229,60382,66909,69052,71235,73270,75152,75652,76212,76841,78602,78982,79546,80399,81376,82736,84122,86013,88394,90377,92971,95279,98090,102003,106098,110047,114219,119041,126702,132492,146876,157950,169219,184027,199970,219535,246584,277359,309350,344205,387040,428219,479220,542097,607138,674418,733655,798949,875794,958602,1041662,1125221,1183584,1256176,1329331,1399162,1482540,1569554,1655088,1729371,1849067,1919809,2003820,2080934,2176465,2264462,2341702,2418307,2494325,2570074,2651321,2735570,2819666,2901925,2973513,3043705,3119245,3196355,3279850,3368226,3447426,3523799,3601488,3681990,3772018,3860724,3951003,4036226,4111202,4187833,4272324,4357304,4453535,4549267,4643706,4721728,4810895,4907670,5009548,5116192,5222614,5327418,5421629,5508346,5602313,5705075,5824358,5945261,6081776,6188184,6284179,6406143,6520392,6651336,6782559,6916296,7028659,7131156,7256216,7391321,7529341,7658106,7793395,7925679,8045337,8187421,8331167,8472230,8652145,8809593,8937295,9076656,9243465,9416059,9594440,9786037,9964169,10128040,10283387,10457929,10675536,10885481,11086866,11280675,11464678,11628653,11840015,12054174,12281001,12513675,12730157,12922431,13113875,13336063,13567531,13818843,14061585,14297763,14511197,14718313,14951994,15231862,15514716,15795790,16049844,16262880,16489410,16742195,17033923,17314023,17604767,17853105,18084097,18290572,18548514,18825089,19110291,19392530,19651048,19875731,20101760,20359330,20635977,20925193,21228941,21476649,21691119,21898851,22157107,22436697,22709251,22970456,23234707,23440856,23666124,23910125,24193918,24477813,24761440,25025233,25246198,25509089,25774014,26057518,26338937,26652953,26922944,27153409,27371291,27613490,27898312,28198188,28519558,28806136,29048855,29312607,29598069,29902604,30217490,30543411,30835530,31087644,31363730,31648244,31924336,32277373,32608243,32896685,33148076,33402856,33685524,34011734,34330037,34627903,34959947,35221344,35522367,35848886,36199883,36561210,36922107,37279208,37566120,37857886,38177145,38559479,38966463,39378234,39750891,40067454,40454664,40843666,41288556,41761275,42258073,42714857,43075510,43561921,44032154,44544026,45094441,45665496,46142261,46604645,47167772,47721517,48233069,48829627,49474481,50071373,50555347,51056879,51616256,52264862,52914405,53566478,54161448,54635389,55169846,55781066,56408169,57061754,57730498,58318062,58806043,59331362,59921623,60557847,61140322,61827470,62413501,62902084,63410725,64022822,64674220,65368548,66051824,66693987,67232741,67752760,68396288,69066199,70564412,71268909,71903759,72434597,72959984,73596190,74329916,75069498,75789960,76401213,76934686,77483983,78134244,78829366,79496006,79961556,80474158,80912611,81408934,82073362,82834592,83559601,84092619,84718978,85251774,85805892,86546014,87329386,88210223,89013445,89774439,90363573,90983503,91689011,92437399,93192627,93959814,94598958,95128170,95643236,96251662,96944599,97600922,98259983,98828107,99273761,99771101,100327339,100925700,101539951,102130394,102645724,103027363,103474137,103932094,104454075,104920982,105456410,105828535,106226613,106542506,106970539,107406280,107847745,108276434,108649735,108943585,109226751,109577771,109973326,110376842,110789361,111159816,111474262,111762700,112151553,112596489,113043967,113487006,113876236,114179745,114485609,114795897,115237039,115690088,116137142,116547675,116915987,117214710,117629375,118096454,118573350,119062678,119516794,119877179,120226080,120699093,121238378,121792101,122353780,122852600,123275915,123692736,124206981,124840562,125491912,126133263,126717855,127187813,127646218,128214491,128897696,129609483,130243222,130773716,131325468,131815052,132419139,133103485,133943335,134691380,135355887,136046628,136663253,137442820,138259845,139076606,139931461,140719503,141404998,142098420,142952845,143842820,144742575,145640414,146111821]},\"selected\":{\"id\":\"4338\"},\"selection_policy\":{\"id\":\"4337\"}},\"id\":\"3996\",\"type\":\"ColumnDataSource\"},{\"attributes\":{\"days\":[1,8,15,22]},\"id\":\"6191\",\"type\":\"DaysTicker\"},{\"attributes\":{\"line_color\":\"red\",\"x\":{\"field\":\"name\"},\"y\":{\"field\":\"value\"}},\"id\":\"5849\",\"type\":\"Line\"},{\"attributes\":{},\"id\":\"5831\",\"type\":\"BasicTicker\"},{\"attributes\":{\"axis\":{\"id\":\"5830\"},\"coordinates\":null,\"dimension\":1,\"group\":null,\"ticker\":null},\"id\":\"5833\",\"type\":\"Grid\"},{\"attributes\":{},\"id\":\"6181\",\"type\":\"DatetimeTickFormatter\"},{\"attributes\":{},\"id\":\"6179\",\"type\":\"AllLabels\"},{\"attributes\":{\"days\":[1,2,3,4,5,6,7,8,9,10,11,12,13,14,15,16,17,18,19,20,21,22,23,24,25,26,27,28,29,30,31]},\"id\":\"6189\",\"type\":\"DaysTicker\"},{\"attributes\":{\"base\":60,\"mantissas\":[1,2,5,10,15,20,30],\"max_interval\":1800000.0,\"min_interval\":1000.0,\"num_minor_ticks\":0},\"id\":\"6187\",\"type\":\"AdaptiveTicker\"},{\"attributes\":{},\"id\":\"4338\",\"type\":\"Selection\"},{\"attributes\":{},\"id\":\"6182\",\"type\":\"AllLabels\"},{\"attributes\":{},\"id\":\"4337\",\"type\":\"UnionRenderers\"},{\"attributes\":{\"months\":[0,4,8]},\"id\":\"6195\",\"type\":\"MonthsTicker\"},{\"attributes\":{},\"id\":\"5818\",\"type\":\"DataRange1d\"},{\"attributes\":{},\"id\":\"5820\",\"type\":\"DataRange1d\"}],\"root_ids\":[\"5817\"]},\"title\":\"Bokeh Application\",\"version\":\"2.4.1\"}};\n  const render_items = [{\"docid\":\"5c57f518-e0b0-4b10-91bf-b80af3e9e200\",\"root_ids\":[\"5817\"],\"roots\":{\"5817\":\"b6c10c4f-1ba9-4093-b714-42046dcbce92\"}}];\n  root.Bokeh.embed.embed_items_notebook(docs_json, render_items);\n\n  }\n  if (root.Bokeh !== undefined) {\n    embed_document(root);\n  } else {\n    let attempts = 0;\n    const timer = setInterval(function(root) {\n      if (root.Bokeh !== undefined) {\n        clearInterval(timer);\n        embed_document(root);\n      } else {\n        attempts++;\n        if (attempts > 100) {\n          clearInterval(timer);\n          console.log(\"Bokeh: ERROR: Unable to run BokehJS code because BokehJS library is missing\");\n        }\n      }\n    }, 10, root)\n  }\n})(window);",
      "application/vnd.bokehjs_exec.v0+json": ""
     },
     "metadata": {
      "application/vnd.bokehjs_exec.v0+json": {
       "id": "5817"
      }
     },
     "output_type": "display_data"
    }
   ],
   "source": [
    "plot = figure(x_axis_type=\"datetime\", width=800)\n",
    "\n",
    "plot.line(x='name', y='value', source=source, color='red')\n",
    "\n",
    "\n",
    "plot.xaxis.axis_label = None\n",
    "plot.yaxis.axis_label = \"Cases\"\n",
    "plot.axis.axis_label_text_font_style = \"bold\"\n",
    "\n",
    "bokeh.io.output_notebook()\n",
    "bokeh.plotting.show(plot)"
   ]
  },
  {
   "cell_type": "code",
   "execution_count": null,
   "metadata": {},
   "outputs": [],
   "source": []
  },
  {
   "cell_type": "code",
   "execution_count": null,
   "metadata": {},
   "outputs": [],
   "source": []
  }
 ],
 "metadata": {
  "interpreter": {
   "hash": "4eead30e85f642b8a40a75dce5e1f337314141038d8d651e8ada8e06f8052b99"
  },
  "kernelspec": {
   "display_name": "Python 3.9.7 64-bit ('base': conda)",
   "language": "python",
   "name": "python3"
  },
  "language_info": {
   "codemirror_mode": {
    "name": "ipython",
    "version": 3
   },
   "file_extension": ".py",
   "mimetype": "text/x-python",
   "name": "python",
   "nbconvert_exporter": "python",
   "pygments_lexer": "ipython3",
   "version": "3.9.7"
  },
  "orig_nbformat": 4
 },
 "nbformat": 4,
 "nbformat_minor": 2
}
